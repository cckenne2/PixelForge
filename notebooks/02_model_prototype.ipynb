{
 "cells": [
  {
   "cell_type": "markdown",
   "id": "b0b66ef1",
   "metadata": {},
   "source": [
    "### Imports + Generator (PixelShuffle)"
   ]
  },
  {
   "cell_type": "code",
   "execution_count": 1,
   "id": "4eccdd6f",
   "metadata": {},
   "outputs": [],
   "source": [
    "import math\n",
    "import torch\n",
    "import torch.nn as nn"
   ]
  },
  {
   "cell_type": "code",
   "execution_count": 2,
   "id": "727a9d50",
   "metadata": {},
   "outputs": [],
   "source": [
    "class ResidualBlock(nn.Module):\n",
    "    def __init__(self, n_feats: int):\n",
    "        super().__init__()\n",
    "        # Residual block\n",
    "        self.block = nn.Sequential(\n",
    "            nn.Conv2d(n_feats, n_feats, 3, padding=1),  # First conv\n",
    "            nn.ReLU(inplace=True),\n",
    "            nn.Conv2d(n_feats, n_feats, 3, padding=1),  # Second conv\n",
    "        )\n",
    "\n",
    "    def forward(self, x: torch.Tensor) -> torch.Tensor:\n",
    "        return x + self.block(x)"
   ]
  }
 ],
 "metadata": {
  "kernelspec": {
   "display_name": "PixelForge",
   "language": "python",
   "name": "python3"
  },
  "language_info": {
   "codemirror_mode": {
    "name": "ipython",
    "version": 3
   },
   "file_extension": ".py",
   "mimetype": "text/x-python",
   "name": "python",
   "nbconvert_exporter": "python",
   "pygments_lexer": "ipython3",
   "version": "3.12.5"
  }
 },
 "nbformat": 4,
 "nbformat_minor": 5
}

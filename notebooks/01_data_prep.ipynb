{
 "cells": [
  {
   "cell_type": "markdown",
   "id": "6b897c9a",
   "metadata": {},
   "source": [
    "### Imports & Paths (no data is downloaded here)"
   ]
  },
  {
   "cell_type": "code",
   "execution_count": 1,
   "id": "53ad9599",
   "metadata": {},
   "outputs": [],
   "source": [
    "from pathlib import Path\n",
    "from PIL import Image\n",
    "from tqdm import tqdm\n",
    "\n",
    "DATA_ROOT = Path(\"..\\\\data\")\n",
    "HR_VALID = DATA_ROOT / \"HR\" / \"valid\"\n",
    "HR_TRAIN = DATA_ROOT / \"HR\" / \"train\""
   ]
  },
  {
   "cell_type": "code",
   "execution_count": 2,
   "id": "ffcd0c94",
   "metadata": {},
   "outputs": [],
   "source": [
    "def lr_dir(scale: int, split: str) -> Path:\n",
    "    return DATA_ROOT / f\"LR_bicubic/X{scale}\" / split"
   ]
  },
  {
   "cell_type": "markdown",
   "id": "c6ca92e1",
   "metadata": {},
   "source": [
    "Sanity check: do we see the HR images?"
   ]
  },
  {
   "cell_type": "code",
   "execution_count": 3,
   "id": "ea36e834",
   "metadata": {},
   "outputs": [
    {
     "name": "stdout",
     "output_type": "stream",
     "text": [
      "HR train dir: C:\\Users\\Caleb\\Documents\\GitHub Repos\\PixelForge\\data\\HR\\train\n",
      "HR valid dir: C:\\Users\\Caleb\\Documents\\GitHub Repos\\PixelForge\\data\\HR\\valid\n",
      "HR train count: 800\n",
      "HR valid count: 100\n"
     ]
    }
   ],
   "source": [
    "def count_images(p: Path):\n",
    "    return len([x for x in p.glob(\"*\") if x.suffix.lower() in [\".png\", \".jpg\", \".jpeg\"]])\n",
    "\n",
    "print(\"HR train dir:\", HR_TRAIN.resolve())\n",
    "print(\"HR valid dir:\", HR_VALID.resolve())\n",
    "print(\"HR train count:\", count_images(HR_TRAIN))\n",
    "print(\"HR valid count:\", count_images(HR_VALID))"
   ]
  },
  {
   "cell_type": "markdown",
   "id": "3ca0876b",
   "metadata": {},
   "source": [
    "### Helper to Generate a LR Image (Idempotent)"
   ]
  },
  {
   "cell_type": "code",
   "execution_count": 4,
   "id": "a8a61f85",
   "metadata": {},
   "outputs": [],
   "source": [
    "def ensure_dir(p: Path):\n",
    "    if not p.exists():\n",
    "        p.mkdir(parents=True, exist_ok=True)\n",
    "\n",
    "def hr_to_lr(hr_path: Path, out_dir: Path, scale: int):\n",
    "    out_path = out_dir / hr_path.name\n",
    "    if out_path.exists():\n",
    "        return # Skip existing files\n",
    "    img = Image.open(hr_path).convert(\"RGB\")\n",
    "    w, h = img.size\n",
    "    w2, h2 = w - (w % scale), h - (h % scale)\n",
    "    if (w2, h2) != (w, h):\n",
    "        img = img.crop((0, 0, w2, h2))\n",
    "    lr = img.resize((w2 // scale, h2 // scale), resample=Image.BICUBIC)\n",
    "    ensure_dir(out_dir)\n",
    "    lr.save(out_path, quality=95)"
   ]
  },
  {
   "cell_type": "markdown",
   "id": "6fadd9d1",
   "metadata": {},
   "source": [
    "Tiny smoke test (valid split, X4, first 5 images)"
   ]
  },
  {
   "cell_type": "code",
   "execution_count": 5,
   "id": "fd22c943",
   "metadata": {},
   "outputs": [
    {
     "name": "stderr",
     "output_type": "stream",
     "text": [
      "Generating X4 (valid): 100%|██████████| 5/5 [00:00<00:00,  8.97it/s]"
     ]
    },
    {
     "name": "stdout",
     "output_type": "stream",
     "text": [
      "Wrote to: C:\\Users\\Caleb\\Documents\\GitHub Repos\\PixelForge\\data\\LR_bicubic\\X4\\valid\n"
     ]
    },
    {
     "name": "stderr",
     "output_type": "stream",
     "text": [
      "\n"
     ]
    }
   ],
   "source": [
    "SCALE = 4\n",
    "SPLIT = \"valid\"\n",
    "OUT_DIR = lr_dir(SCALE, SPLIT)\n",
    "\n",
    "valid_imgs = sorted([p for p in HR_VALID.glob(\"*\") if p.suffix.lower() in [\".png\", \".jpg\", \".jpeg\"]])\n",
    "subset = valid_imgs[:5] # Take the first 5 images\n",
    "\n",
    "for p in tqdm(subset, desc=f\"Generating X{SCALE} ({SPLIT})\"):\n",
    "    hr_to_lr(p, OUT_DIR, SCALE)\n",
    "\n",
    "print(\"Wrote to:\", OUT_DIR.resolve())"
   ]
  },
  {
   "cell_type": "markdown",
   "id": "8385be36",
   "metadata": {},
   "source": [
    "### Small Batch Function (Choose Split + Scale + Limit)"
   ]
  },
  {
   "cell_type": "code",
   "execution_count": 6,
   "id": "6bb8610d",
   "metadata": {},
   "outputs": [],
   "source": [
    "# Flexible wrapper to perform low-level image operations\n",
    "def generate_lr_split(scale: int, split : str, limit: int | None = None, verbose: bool = True):\n",
    "    hr_dir = HR_TRAIN if split == \"train\" else HR_VALID\n",
    "    out_dir = lr_dir(scale, split)\n",
    "    imgs = sorted([p for p in hr_dir.glob(\"*\") if p.suffix.lower() in [\".png\", \".jpg\", \".jpeg\"]])\n",
    "    if limit is not None:\n",
    "        imgs = imgs[:limit]\n",
    "    for p in tqdm(imgs, desc=f\"X{scale} {split} ({len(imgs)} imgs)\"):\n",
    "        hr_to_lr(p, out_dir, scale)\n",
    "    if verbose:\n",
    "        print(f\"Done: {out_dir.resolve()} ({count_images(out_dir)} images)\")"
   ]
  },
  {
   "cell_type": "markdown",
   "id": "e52f36b1",
   "metadata": {},
   "source": [
    "Try slightly larger test to confirm functionality"
   ]
  },
  {
   "cell_type": "code",
   "execution_count": 9,
   "id": "c77c4ca6",
   "metadata": {},
   "outputs": [
    {
     "name": "stderr",
     "output_type": "stream",
     "text": [
      "X2 train (20 imgs): 100%|██████████| 20/20 [00:00<00:00, 9995.96it/s]"
     ]
    },
    {
     "name": "stdout",
     "output_type": "stream",
     "text": [
      "Done: PixelForge\\data\\LR_bicubic\\X2\\train (20 images)\n"
     ]
    },
    {
     "name": "stderr",
     "output_type": "stream",
     "text": [
      "\n"
     ]
    }
   ],
   "source": [
    "generate_lr_split(scale=2, split=\"train\", limit=20)"
   ]
  }
 ],
 "metadata": {
  "kernelspec": {
   "display_name": "PixelForge",
   "language": "python",
   "name": "python3"
  },
  "language_info": {
   "codemirror_mode": {
    "name": "ipython",
    "version": 3
   },
   "file_extension": ".py",
   "mimetype": "text/x-python",
   "name": "python",
   "nbconvert_exporter": "python",
   "pygments_lexer": "ipython3",
   "version": "3.12.5"
  }
 },
 "nbformat": 4,
 "nbformat_minor": 5
}

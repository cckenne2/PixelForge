{
 "cells": [
  {
   "cell_type": "markdown",
   "id": "6b897c9a",
   "metadata": {},
   "source": [
    "### Imports & Paths (no data is downloaded here)"
   ]
  },
  {
   "cell_type": "code",
   "execution_count": 2,
   "id": "53ad9599",
   "metadata": {},
   "outputs": [],
   "source": [
    "from pathlib import Path\n",
    "from PIL import Image\n",
    "from tqdm import tqdm\n",
    "\n",
    "DATA_ROOT = Path(\"data/DIV2K\")\n",
    "HR_VALID = DATA_ROOT / \"HR\" / \"valid\"\n",
    "HR_TRAIN = DATA_ROOT / \"HR\" / \"train\""
   ]
  },
  {
   "cell_type": "code",
   "execution_count": 3,
   "id": "ffcd0c94",
   "metadata": {},
   "outputs": [],
   "source": [
    "def lr_dir(scale: int, split: str) -> Path:\n",
    "    return DATA_ROOT / f\"LR_bicubic/X{scale}\" / split"
   ]
  },
  {
   "cell_type": "markdown",
   "id": "c6ca92e1",
   "metadata": {},
   "source": [
    "Sanity check: do we see the HR images?"
   ]
  },
  {
   "cell_type": "code",
   "execution_count": 6,
   "id": "ea36e834",
   "metadata": {},
   "outputs": [
    {
     "name": "stdout",
     "output_type": "stream",
     "text": [
      "HR train dir: C:\\Users\\Caleb\\Documents\\GitHub Repos\\PixelForge\\notebooks\\data\\DIV2K\\HR\\train\n",
      "HR valid dir: C:\\Users\\Caleb\\Documents\\GitHub Repos\\PixelForge\\notebooks\\data\\DIV2K\\HR\\valid\n",
      "HR train count: 0\n",
      "HR valid count: 0\n"
     ]
    }
   ],
   "source": [
    "def count_images(p: Path):\n",
    "    return len([x for x in p.glob(\"*\") if x.suffix.lower() in [\".png\", \".jpg\", \".jpeg\"]])\n",
    "\n",
    "print(\"HR train dir:\", HR_TRAIN.resolve())\n",
    "print(\"HR valid dir:\", HR_VALID.resolve())\n",
    "print(\"HR train count:\", count_images(HR_TRAIN))\n",
    "print(\"HR valid count:\", count_images(HR_VALID))"
   ]
  }
 ],
 "metadata": {
  "kernelspec": {
   "display_name": "PixelForge",
   "language": "python",
   "name": "python3"
  },
  "language_info": {
   "codemirror_mode": {
    "name": "ipython",
    "version": 3
   },
   "file_extension": ".py",
   "mimetype": "text/x-python",
   "name": "python",
   "nbconvert_exporter": "python",
   "pygments_lexer": "ipython3",
   "version": "3.12.5"
  }
 },
 "nbformat": 4,
 "nbformat_minor": 5
}
